{
 "cells": [
  {
   "cell_type": "code",
   "execution_count": 28,
   "id": "b519a8c1",
   "metadata": {},
   "outputs": [],
   "source": [
    "import os\n",
    "import pandas as pd\n",
    "\n",
    "folder_path = 'value_csv'\n",
    "file_names = os.listdir(folder_path)\n",
    "\n",
    "for index,file_name in enumerate(file_names):\n",
    "    if file_name.endswith('.csv'):\n",
    "        file_path = os.path.join(folder_path,file_name)\n",
    "        \n",
    "        df = pd.read_csv(file_path)\n",
    "        \n",
    "        json_file_name = f'{index+1}.json'\n",
    "        \n",
    "        df.to_json(json_file_name, orient='records')"
   ]
  }
 ],
 "metadata": {
  "kernelspec": {
   "display_name": "Python 3",
   "language": "python",
   "name": "python3"
  },
  "language_info": {
   "codemirror_mode": {
    "name": "ipython",
    "version": 3
   },
   "file_extension": ".py",
   "mimetype": "text/x-python",
   "name": "python",
   "nbconvert_exporter": "python",
   "pygments_lexer": "ipython3",
   "version": "3.9.11"
  }
 },
 "nbformat": 4,
 "nbformat_minor": 5
}
