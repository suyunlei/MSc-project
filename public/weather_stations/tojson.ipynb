{
 "cells": [
  {
   "cell_type": "code",
   "execution_count": 28,
   "id": "4337d440",
   "metadata": {},
   "outputs": [],
   "source": [
    "# weather values to json\n",
    "import os\n",
    "import pandas as pd\n",
    "\n",
    "folder_path = 'value_csv'\n",
    "file_names = os.listdir(folder_path)\n",
    "\n",
    "for index,file_name in enumerate(file_names):\n",
    "    if file_name.endswith('.csv'):\n",
    "        file_path = os.path.join(folder_path,file_name)\n",
    "        \n",
    "        df = pd.read_csv(file_path)\n",
    "        \n",
    "        json_file_name = f'{index+1}.json'\n",
    "        \n",
    "        df.to_json(json_file_name, orient='records')"
   ]
  },
  {
   "cell_type": "code",
   "execution_count": 33,
   "id": "5120ac33",
   "metadata": {},
   "outputs": [],
   "source": [
    "# geolocation points to json\n",
    "point_path = 'VC_data_location.csv'\n",
    "points = pd.read_csv(point_path)\n",
    "\n",
    "columns_to_drop = [col for col in points.columns if 'Unnamed' in col]\n",
    "points = points.drop(columns=columns_to_drop)\n",
    "\n",
    "points.to_json('points.json', orient='records')"
   ]
  }
 ],
 "metadata": {
  "kernelspec": {
   "display_name": "Python 3",
   "language": "python",
   "name": "python3"
  },
  "language_info": {
   "codemirror_mode": {
    "name": "ipython",
    "version": 3
   },
   "file_extension": ".py",
   "mimetype": "text/x-python",
   "name": "python",
   "nbconvert_exporter": "python",
   "pygments_lexer": "ipython3",
   "version": "3.9.11"
  }
 },
 "nbformat": 4,
 "nbformat_minor": 5
}
