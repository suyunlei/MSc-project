{
 "cells": [
  {
   "cell_type": "code",
   "execution_count": 28,
   "id": "69f8571b",
   "metadata": {},
   "outputs": [],
   "source": [
    "import os\n",
    "import pandas as pd\n",
    "\n",
    "folder_path = 'value_csv'\n",
    "file_names = os.listdir(folder_path)\n",
    "\n",
    "for index,file_name in enumerate(file_names):\n",
    "    if file_name.endswith('.csv'):\n",
    "        file_path = os.path.join(folder_path,file_name)\n",
    "        \n",
    "        df = pd.read_csv(file_path)\n",
    "        \n",
    "        json_file_name = f'{index+1}.json'\n",
    "        \n",
    "        df.to_json(json_file_name, orient='records')"
   ]
  },
  {
   "cell_type": "code",
   "execution_count": 32,
   "id": "6c274129",
   "metadata": {},
   "outputs": [
    {
     "name": "stdout",
     "output_type": "stream",
     "text": [
      "    ID        Lat       Long                     Location     Type  \\\n",
      "0    1  103.768245  1.300821          Kent Vale (Rooftop)  Rooftop   \n",
      "1    2  103.773209  1.299893                 Raffles Hall   Ground   \n",
      "2    3  103.770795  1.298818          Between E1 and EW 1   Ground   \n",
      "3    4  103.772678  1.298462             Between E4 & E4A   Ground   \n",
      "4    5  103.774266  1.297614                S2S (Rooftop)  Rooftop   \n",
      "5    6  103.772312  1.296408              Central Library   Ground   \n",
      "6    7  103.769825  1.295043               Ventus Carpark   Ground   \n",
      "7    8  103.772115  1.295015            Between AS1 & AS3   Ground   \n",
      "8    9  103.776018  1.294459                 i4 (Rooftop)  Rooftop   \n",
      "9   10  103.771800  1.292612       Temasek Hall (Rooftop)  Rooftop   \n",
      "10  11  103.772713  1.297254                  IT Bus Stop   Ground   \n",
      "11  12  103.778576  1.292662       Green area next to PGP   Ground   \n",
      "12  13  103.780762  1.291102             PGP Residences 1   Ground   \n",
      "13  14  103.782760  1.291420   PGP Residences 2 (Rooftop)  Rooftop   \n",
      "14  15  103.781893  1.296360               MD10 (Rooftop)  Rooftop   \n",
      "15  16  103.781166  1.294635       Between Tahir and SICS   Ground   \n",
      "16  17  103.780151  1.296682              Science Drive 2   Ground   \n",
      "17  18  103.777999  1.297994                 Sports Field   Ground   \n",
      "18  19  103.775329  1.300497                  Wind Tunnel   Ground   \n",
      "19  20  103.771746  1.302332              Cultural Centre   Ground   \n",
      "\n",
      "                                          Description  \n",
      "0                                                 NaN  \n",
      "1           Between RH2 and RH3, covered walkway post  \n",
      "2   The balcony on the second floor of E1 (Facing ...  \n",
      "3                            Lamp post (No. E4-DB-04)  \n",
      "4                         Rooftop of the S2S building  \n",
      "5   Walkway post next to the Central Library Bus Stop  \n",
      "6                           Lamp post (No. VT-OG2-01)  \n",
      "7       Top of the covered walkway between AS1 & AS 3  \n",
      "8                                       Rooftop of i4  \n",
      "9                                                 NaN  \n",
      "10                                                NaN  \n",
      "11   Greenery ground behind Office of Campus Security  \n",
      "12                      Lamp post (No. Mercury-R1-19)  \n",
      "13                                                NaN  \n",
      "14                         3rd floor rooftop of MD 10  \n",
      "15                                          Lamp post  \n",
      "16                              Lamp post (No. S16-1)  \n",
      "17                                                NaN  \n",
      "18                       Lamp post (No. MP-SH-OG- 24)  \n",
      "19                       Lamp post (No. MP-SH-OG- 01)  \n"
     ]
    }
   ],
   "source": [
    "point_path = 'VC_data_location.csv'\n",
    "points = pd.read_csv(point_path)\n",
    "\n",
    "columns_to_drop = [col for col in points.columns if 'Unnamed' in col]\n",
    "points = points.drop(columns=columns_to_drop)\n",
    "print(points)\n",
    "# points.to_json('points.json', orient='records')"
   ]
  }
 ],
 "metadata": {
  "kernelspec": {
   "display_name": "Python 3",
   "language": "python",
   "name": "python3"
  },
  "language_info": {
   "codemirror_mode": {
    "name": "ipython",
    "version": 3
   },
   "file_extension": ".py",
   "mimetype": "text/x-python",
   "name": "python",
   "nbconvert_exporter": "python",
   "pygments_lexer": "ipython3",
   "version": "3.9.11"
  }
 },
 "nbformat": 4,
 "nbformat_minor": 5
}
