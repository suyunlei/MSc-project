{
 "cells": [
  {
   "cell_type": "code",
   "execution_count": 4,
   "id": "02e0cdd5",
   "metadata": {},
   "outputs": [],
   "source": [
    "import pandas as pd\n",
    "\n",
    "# read CSV file\n",
    "df = pd.read_csv(\"attributes.csv\")\n",
    "\n",
    "# transpose DataFrame\n",
    "df_transposed = df.transpose()\n",
    "\n",
    "# clean the first line (useless count line)\n",
    "df_transposed = df_transposed.iloc[1:]"
   ]
  },
  {
   "cell_type": "code",
   "execution_count": 5,
   "id": "7c8c29ba",
   "metadata": {},
   "outputs": [],
   "source": [
    "df_list = [df_transposed[i:i+85] for i in range(0, len(df_transposed), 85)]\n",
    "\n",
    "# store the splited csv in df_list\n",
    "for i, df_split in enumerate(df_list):\n",
    "    # set the header\n",
    "    df_split.columns = ['Heart Rate', 'Solar Intensity', 'Noise', 'Cars', 'Pedestrains',\n",
    "                        'building', 'wall', 'fence', 'pole', 'traffic light', 'traffic sign',\n",
    "                        'vegetation', 'terrain', 'sky', 'Altitudes']\n",
    "    # store as new CSV file\n",
    "    df_split.to_csv(f'output_{i+1}.csv', index=False)"
   ]
  },
  {
   "cell_type": "code",
   "execution_count": 6,
   "id": "92ed1fca",
   "metadata": {},
   "outputs": [],
   "source": [
    "# read the location CSV file\n",
    "df_other = pd.read_csv('points.csv')\n",
    "\n",
    "# loop the previous 15 files\n",
    "for i in range(1, 16):\n",
    "    # read the previous files\n",
    "    df_split = pd.read_csv(f'output_{i}.csv')\n",
    "    \n",
    "    # merge the two dataframes\n",
    "    df_merged = pd.concat([df_other,df_split], axis=1)\n",
    "    \n",
    "    # store as new CSV file\n",
    "    df_merged.to_csv(f'output_merged_{i}.csv', index=False)"
   ]
  },
  {
   "cell_type": "code",
   "execution_count": null,
   "id": "3c93c5ea",
   "metadata": {},
   "outputs": [],
   "source": []
  }
 ],
 "metadata": {
  "kernelspec": {
   "display_name": "Python 3",
   "language": "python",
   "name": "python3"
  },
  "language_info": {
   "codemirror_mode": {
    "name": "ipython",
    "version": 3
   },
   "file_extension": ".py",
   "mimetype": "text/x-python",
   "name": "python",
   "nbconvert_exporter": "python",
   "pygments_lexer": "ipython3",
   "version": "3.9.11"
  }
 },
 "nbformat": 4,
 "nbformat_minor": 5
}
